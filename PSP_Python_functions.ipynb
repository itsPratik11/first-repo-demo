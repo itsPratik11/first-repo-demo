{
  "nbformat": 4,
  "nbformat_minor": 0,
  "metadata": {
    "colab": {
      "provenance": [],
      "authorship_tag": "ABX9TyMURjLCFc6OZpxaJ7+KJ8xf",
      "include_colab_link": true
    },
    "kernelspec": {
      "name": "python3",
      "display_name": "Python 3"
    },
    "language_info": {
      "name": "python"
    }
  },
  "cells": [
    {
      "cell_type": "markdown",
      "metadata": {
        "id": "view-in-github",
        "colab_type": "text"
      },
      "source": [
        "<a href=\"https://colab.research.google.com/github/itsPratik11/first-repo-demo/blob/main/PSP_Python_functions.ipynb\" target=\"_parent\"><img src=\"https://colab.research.google.com/assets/colab-badge.svg\" alt=\"Open In Colab\"/></a>"
      ]
    },
    {
      "cell_type": "code",
      "execution_count": 16,
      "metadata": {
        "colab": {
          "base_uri": "https://localhost:8080/"
        },
        "id": "gc1SarAdshWP",
        "outputId": "068a072c-9021-4aaf-894c-f51b4c79bcd6"
      },
      "outputs": [
        {
          "name": "stdout",
          "output_type": "stream",
          "text": [
            "Enter your Physics marks: 96\n",
            "Enter your Chemistry marks: 92\n",
            "Enter your Biology marks: 95\n",
            "Enter your Mathematics marks: 99\n",
            "Enter your Computer marks: 91\n"
          ]
        }
      ],
      "source": [
        "def gradecal():\n",
        "    phy = float(input(\"Enter your Physics marks: \"))\n",
        "    chem = float(input(\"Enter your Chemistry marks: \"))\n",
        "    bio = float(input(\"Enter your Biology marks: \"))\n",
        "    math = float(input(\"Enter your Mathematics marks: \"))\n",
        "    comp = float(input(\"Enter your Computer marks: \"))\n",
        "    avg= (phy+chem+bio+math+comp)/5\n",
        "    if avg>=90:\n",
        "        print(\"Grade: A\")\n",
        "    elif avg>=80:\n",
        "        print(\"Grade: B\")\n",
        "    elif avg>=70:\n",
        "        print(\"Grade: C\")\n",
        "    elif avg>=60:\n",
        "        print(\"Grade: D\")\n",
        "    else:\n",
        "         print(\"Grade: F\")\n",
        "\n",
        "phy = float(input(\"Enter your Physics marks: \"))\n",
        "chem = float(input(\"Enter your Chemistry marks: \"))\n",
        "bio = float(input(\"Enter your Biology marks: \"))\n",
        "math = float(input(\"Enter your Mathematics marks: \"))\n",
        "comp = float(input(\"Enter your Computer marks: \"))\n"
      ]
    },
    {
      "cell_type": "code",
      "source": [
        "#write a function with the argument and  for the largest number among three numbers\n",
        "def largest(a,b,c):\n",
        "    if a>b and a>c:\n",
        "        print(a)\n",
        "    elif b>a and b>c:\n",
        "        print(b)\n",
        "    else:\n",
        "        return(c)\n",
        "a= int(input(\"Enter first number: \"))\n",
        "b= int(input(\"Enter second number: \"))\n",
        "c= int(input(\"Enter third number: \"))\n",
        "largest(a,b,c)"
      ],
      "metadata": {
        "colab": {
          "base_uri": "https://localhost:8080/"
        },
        "id": "-QxjQDuUw8Cu",
        "outputId": "5174c015-8baf-4ff4-b836-1abe41591514"
      },
      "execution_count": 25,
      "outputs": [
        {
          "name": "stdout",
          "output_type": "stream",
          "text": [
            "Enter first number: 9\n",
            "Enter second number: 9\n",
            "Enter third number: 9\n"
          ]
        },
        {
          "output_type": "execute_result",
          "data": {
            "text/plain": [
              "9"
            ]
          },
          "metadata": {},
          "execution_count": 25
        }
      ]
    }
  ]
}